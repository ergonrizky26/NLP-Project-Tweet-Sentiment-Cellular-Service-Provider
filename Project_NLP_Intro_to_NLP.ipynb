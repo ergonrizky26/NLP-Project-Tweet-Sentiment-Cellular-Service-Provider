{
  "nbformat": 4,
  "nbformat_minor": 0,
  "metadata": {
    "colab": {
      "name": "Project_NLP - Intro to NLP.ipynb",
      "provenance": [],
      "toc_visible": true
    },
    "kernelspec": {
      "name": "python3",
      "display_name": "Python 3"
    },
    "language_info": {
      "name": "python"
    }
  },
  "cells": [
    {
      "cell_type": "markdown",
      "source": [
        "# Import Libraries"
      ],
      "metadata": {
        "id": "hjIVHqHT3itO"
      }
    },
    {
      "cell_type": "markdown",
      "source": [
        "Library yang hendak di impor adalah library data science biasa, scikit-learn, nltk untuk tokenisasi dan gradio untuk model deployment"
      ],
      "metadata": {
        "id": "acN1zkT431ij"
      }
    },
    {
      "cell_type": "code",
      "source": [
        "!pip -q install gradio\n",
        "!pip -q install PySastrawi"
      ],
      "metadata": {
        "id": "zTTARHlu4AqA"
      },
      "execution_count": null,
      "outputs": []
    },
    {
      "cell_type": "code",
      "source": [
        "# Standar Library\n",
        "import string\n",
        "import re\n",
        "\n",
        "# Third-party Library\n",
        "import numpy as np\n",
        "import pandas as pd\n",
        "import matplotlib.pyplot as plt\n",
        "import nltk\n",
        "from nltk.tokenize import word_tokenize\n",
        "from Sastrawi.Stemmer.StemmerFactory import StemmerFactory\n",
        "from sklearn.linear_model import LogisticRegression\n",
        "from sklearn.naive_bayes import MultinomialNB\n",
        "from sklearn.model_selection import train_test_split\n",
        "from sklearn.feature_extraction.text import CountVectorizer, TfidfVectorizer\n",
        "from sklearn.pipeline import Pipeline\n",
        "from sklearn.metrics import classification_report\n",
        "import gradio as gr \n",
        "\n",
        "nltk.download('punkt')\n",
        "pd.set_option('display.max_colwidth', 1000)"
      ],
      "metadata": {
        "colab": {
          "base_uri": "https://localhost:8080/"
        },
        "id": "ZBl-mrNw4Jix",
        "outputId": "b2bf1eb3-1d23-4583-93be-9781349f214b"
      },
      "execution_count": null,
      "outputs": [
        {
          "output_type": "stream",
          "name": "stdout",
          "text": [
            "[nltk_data] Downloading package punkt to /root/nltk_data...\n",
            "[nltk_data]   Package punkt is already up-to-date!\n"
          ]
        }
      ]
    },
    {
      "cell_type": "markdown",
      "source": [
        "# Data Collections"
      ],
      "metadata": {
        "id": "5ADb8fFn51YD"
      }
    },
    {
      "cell_type": "markdown",
      "source": [
        "Data yang digunakan adalah review dari sebuah provider"
      ],
      "metadata": {
        "id": "4RHytlPr590Z"
      }
    },
    {
      "cell_type": "code",
      "source": [
        "!git clone https://github.com/rakkaalhazimi/Data-NLP-Bahasa-Indonesia.git"
      ],
      "metadata": {
        "colab": {
          "base_uri": "https://localhost:8080/"
        },
        "id": "4Nwb5iWi5qIe",
        "outputId": "9d83e818-2618-43e7-9bcf-ad0df35ac2e7"
      },
      "execution_count": null,
      "outputs": [
        {
          "output_type": "stream",
          "name": "stdout",
          "text": [
            "fatal: destination path 'Data-NLP-Bahasa-Indonesia' already exists and is not an empty directory.\n"
          ]
        }
      ]
    },
    {
      "cell_type": "code",
      "source": [
        "df = pd.read_csv('/content/Data-NLP-Bahasa-Indonesia/dataset_tweet_sentiment_cellular_service_provider.csv')\n",
        "df.head()"
      ],
      "metadata": {
        "colab": {
          "base_uri": "https://localhost:8080/",
          "height": 206
        },
        "id": "-K9sS3rv6NUN",
        "outputId": "25ae4610-145c-427c-f64c-9746e923ba05"
      },
      "execution_count": null,
      "outputs": [
        {
          "output_type": "execute_result",
          "data": {
            "text/plain": [
              "   Id Sentiment  \\\n",
              "0   1  positive   \n",
              "1   2  positive   \n",
              "2   3  negative   \n",
              "3   4  negative   \n",
              "4   5  negative   \n",
              "\n",
              "                                                                                                                  Text Tweet  \n",
              "0                                       <USER_MENTION> #BOIKOT_<PROVIDER_NAME> Gunakan Produk Bangsa Sendiri <PROVIDER_NAME>  \n",
              "1                                                                      Saktinya balik lagi, alhamdulillah :v <PROVIDER_NAME>  \n",
              "2  Selamat pagi <PROVIDER_NAME>  bisa bantu kenapa di dalam kamar sinyal 4G hilang yang 1 lagi panggilan darurat saja  <URL>  \n",
              "3                                                 Dear <PROVIDER_NAME> akhir2 ini jaringan data lemot banget padahal H+ !!!!  \n",
              "4                                                                                    Selamat malam PENDUSTA <PROVIDER_NAME>   "
            ],
            "text/html": [
              "\n",
              "  <div id=\"df-18f06a50-a232-4103-bcb7-11fe094ea1ae\">\n",
              "    <div class=\"colab-df-container\">\n",
              "      <div>\n",
              "<style scoped>\n",
              "    .dataframe tbody tr th:only-of-type {\n",
              "        vertical-align: middle;\n",
              "    }\n",
              "\n",
              "    .dataframe tbody tr th {\n",
              "        vertical-align: top;\n",
              "    }\n",
              "\n",
              "    .dataframe thead th {\n",
              "        text-align: right;\n",
              "    }\n",
              "</style>\n",
              "<table border=\"1\" class=\"dataframe\">\n",
              "  <thead>\n",
              "    <tr style=\"text-align: right;\">\n",
              "      <th></th>\n",
              "      <th>Id</th>\n",
              "      <th>Sentiment</th>\n",
              "      <th>Text Tweet</th>\n",
              "    </tr>\n",
              "  </thead>\n",
              "  <tbody>\n",
              "    <tr>\n",
              "      <th>0</th>\n",
              "      <td>1</td>\n",
              "      <td>positive</td>\n",
              "      <td>&lt;USER_MENTION&gt; #BOIKOT_&lt;PROVIDER_NAME&gt; Gunakan Produk Bangsa Sendiri &lt;PROVIDER_NAME&gt;</td>\n",
              "    </tr>\n",
              "    <tr>\n",
              "      <th>1</th>\n",
              "      <td>2</td>\n",
              "      <td>positive</td>\n",
              "      <td>Saktinya balik lagi, alhamdulillah :v &lt;PROVIDER_NAME&gt;</td>\n",
              "    </tr>\n",
              "    <tr>\n",
              "      <th>2</th>\n",
              "      <td>3</td>\n",
              "      <td>negative</td>\n",
              "      <td>Selamat pagi &lt;PROVIDER_NAME&gt;  bisa bantu kenapa di dalam kamar sinyal 4G hilang yang 1 lagi panggilan darurat saja  &lt;URL&gt;</td>\n",
              "    </tr>\n",
              "    <tr>\n",
              "      <th>3</th>\n",
              "      <td>4</td>\n",
              "      <td>negative</td>\n",
              "      <td>Dear &lt;PROVIDER_NAME&gt; akhir2 ini jaringan data lemot banget padahal H+ !!!!</td>\n",
              "    </tr>\n",
              "    <tr>\n",
              "      <th>4</th>\n",
              "      <td>5</td>\n",
              "      <td>negative</td>\n",
              "      <td>Selamat malam PENDUSTA &lt;PROVIDER_NAME&gt;</td>\n",
              "    </tr>\n",
              "  </tbody>\n",
              "</table>\n",
              "</div>\n",
              "      <button class=\"colab-df-convert\" onclick=\"convertToInteractive('df-18f06a50-a232-4103-bcb7-11fe094ea1ae')\"\n",
              "              title=\"Convert this dataframe to an interactive table.\"\n",
              "              style=\"display:none;\">\n",
              "        \n",
              "  <svg xmlns=\"http://www.w3.org/2000/svg\" height=\"24px\"viewBox=\"0 0 24 24\"\n",
              "       width=\"24px\">\n",
              "    <path d=\"M0 0h24v24H0V0z\" fill=\"none\"/>\n",
              "    <path d=\"M18.56 5.44l.94 2.06.94-2.06 2.06-.94-2.06-.94-.94-2.06-.94 2.06-2.06.94zm-11 1L8.5 8.5l.94-2.06 2.06-.94-2.06-.94L8.5 2.5l-.94 2.06-2.06.94zm10 10l.94 2.06.94-2.06 2.06-.94-2.06-.94-.94-2.06-.94 2.06-2.06.94z\"/><path d=\"M17.41 7.96l-1.37-1.37c-.4-.4-.92-.59-1.43-.59-.52 0-1.04.2-1.43.59L10.3 9.45l-7.72 7.72c-.78.78-.78 2.05 0 2.83L4 21.41c.39.39.9.59 1.41.59.51 0 1.02-.2 1.41-.59l7.78-7.78 2.81-2.81c.8-.78.8-2.07 0-2.86zM5.41 20L4 18.59l7.72-7.72 1.47 1.35L5.41 20z\"/>\n",
              "  </svg>\n",
              "      </button>\n",
              "      \n",
              "  <style>\n",
              "    .colab-df-container {\n",
              "      display:flex;\n",
              "      flex-wrap:wrap;\n",
              "      gap: 12px;\n",
              "    }\n",
              "\n",
              "    .colab-df-convert {\n",
              "      background-color: #E8F0FE;\n",
              "      border: none;\n",
              "      border-radius: 50%;\n",
              "      cursor: pointer;\n",
              "      display: none;\n",
              "      fill: #1967D2;\n",
              "      height: 32px;\n",
              "      padding: 0 0 0 0;\n",
              "      width: 32px;\n",
              "    }\n",
              "\n",
              "    .colab-df-convert:hover {\n",
              "      background-color: #E2EBFA;\n",
              "      box-shadow: 0px 1px 2px rgba(60, 64, 67, 0.3), 0px 1px 3px 1px rgba(60, 64, 67, 0.15);\n",
              "      fill: #174EA6;\n",
              "    }\n",
              "\n",
              "    [theme=dark] .colab-df-convert {\n",
              "      background-color: #3B4455;\n",
              "      fill: #D2E3FC;\n",
              "    }\n",
              "\n",
              "    [theme=dark] .colab-df-convert:hover {\n",
              "      background-color: #434B5C;\n",
              "      box-shadow: 0px 1px 3px 1px rgba(0, 0, 0, 0.15);\n",
              "      filter: drop-shadow(0px 1px 2px rgba(0, 0, 0, 0.3));\n",
              "      fill: #FFFFFF;\n",
              "    }\n",
              "  </style>\n",
              "\n",
              "      <script>\n",
              "        const buttonEl =\n",
              "          document.querySelector('#df-18f06a50-a232-4103-bcb7-11fe094ea1ae button.colab-df-convert');\n",
              "        buttonEl.style.display =\n",
              "          google.colab.kernel.accessAllowed ? 'block' : 'none';\n",
              "\n",
              "        async function convertToInteractive(key) {\n",
              "          const element = document.querySelector('#df-18f06a50-a232-4103-bcb7-11fe094ea1ae');\n",
              "          const dataTable =\n",
              "            await google.colab.kernel.invokeFunction('convertToInteractive',\n",
              "                                                     [key], {});\n",
              "          if (!dataTable) return;\n",
              "\n",
              "          const docLinkHtml = 'Like what you see? Visit the ' +\n",
              "            '<a target=\"_blank\" href=https://colab.research.google.com/notebooks/data_table.ipynb>data table notebook</a>'\n",
              "            + ' to learn more about interactive tables.';\n",
              "          element.innerHTML = '';\n",
              "          dataTable['output_type'] = 'display_data';\n",
              "          await google.colab.output.renderOutput(dataTable, element);\n",
              "          const docLink = document.createElement('div');\n",
              "          docLink.innerHTML = docLinkHtml;\n",
              "          element.appendChild(docLink);\n",
              "        }\n",
              "      </script>\n",
              "    </div>\n",
              "  </div>\n",
              "  "
            ]
          },
          "metadata": {},
          "execution_count": 14
        }
      ]
    },
    {
      "cell_type": "code",
      "source": [
        "# Cek nama-nama pengganti\n",
        "df['Text Tweet'].str.findall('(<.*?>)').explode().value_counts()\n"
      ],
      "metadata": {
        "colab": {
          "base_uri": "https://localhost:8080/"
        },
        "id": "LAjXa3Oh6leu",
        "outputId": "559111ad-7963-4d52-c4c8-48ddd76ddfff"
      },
      "execution_count": null,
      "outputs": [
        {
          "output_type": "execute_result",
          "data": {
            "text/plain": [
              "<PROVIDER_NAME>    463\n",
              "<URL>               49\n",
              "<PRODUCT_NAME>      28\n",
              "<USER_MENTION>      20\n",
              "Name: Text Tweet, dtype: int64"
            ]
          },
          "metadata": {},
          "execution_count": 15
        }
      ]
    },
    {
      "cell_type": "code",
      "source": [
        "# Cek emoticon\n",
        "df['Text Tweet'].str.findall('(:\\S+)').explode().value_counts()"
      ],
      "metadata": {
        "colab": {
          "base_uri": "https://localhost:8080/"
        },
        "id": "uYdtmg2t76qG",
        "outputId": "2303252a-4b10-47b0-85f0-0c020ea336ec"
      },
      "execution_count": null,
      "outputs": [
        {
          "output_type": "execute_result",
          "data": {
            "text/plain": [
              ":v     4\n",
              ":.     1\n",
              ":D     1\n",
              ":))    1\n",
              "Name: Text Tweet, dtype: int64"
            ]
          },
          "metadata": {},
          "execution_count": 16
        }
      ]
    },
    {
      "cell_type": "code",
      "source": [
        "# Cek tanda seru\n",
        "df['Text Tweet'].str.findall('\\w+!').explode().value_counts()"
      ],
      "metadata": {
        "colab": {
          "base_uri": "https://localhost:8080/"
        },
        "id": "fWFPr1hI8lPW",
        "outputId": "500c38d9-83d3-44a3-9cf6-2c54d0388b8f"
      },
      "execution_count": null,
      "outputs": [
        {
          "output_type": "execute_result",
          "data": {
            "text/plain": [
              "buang!           2\n",
              "mampus!          1\n",
              "dibaca!          1\n",
              "ini!             1\n",
              "susah!           1\n",
              "nya!             1\n",
              "Mantap!          1\n",
              "jancok!          1\n",
              "Tipu!            1\n",
              "gitu!            1\n",
              "ditingkatkan!    1\n",
              "sebelah!         1\n",
              "GRATIS!          1\n",
              "direspon!        1\n",
              "jelek!           1\n",
              "lho!             1\n",
              "mahal!           1\n",
              "Kenapa!          1\n",
              "App!             1\n",
              "BANGET!          1\n",
              "kota!            1\n",
              "yess!            1\n",
              "Name: Text Tweet, dtype: int64"
            ]
          },
          "metadata": {},
          "execution_count": 17
        }
      ]
    },
    {
      "cell_type": "markdown",
      "source": [
        "# Text Preprocessing"
      ],
      "metadata": {
        "id": "iQlztIOk8_Xp"
      }
    },
    {
      "cell_type": "markdown",
      "source": [
        "Review pasti datang dengan format dan penulisan yang berbeda-beda, maka dari itu kita perlu menyusun sistem untuk merapikan dan membersihkan teks dalam review-review tersebut. "
      ],
      "metadata": {
        "id": "YCrhru-19FBC"
      }
    },
    {
      "cell_type": "markdown",
      "source": [
        "## Text Cleaning "
      ],
      "metadata": {
        "id": "PSBO02Ef9XKm"
      }
    },
    {
      "cell_type": "markdown",
      "source": [
        "Secara spesifik, hal yang akan dilakukan adalah :\n",
        "1. Pengubahan beberapa tanda baca menjadi spasi\n",
        "2. Reduksi spasi yang berlebihan menjadi satu spasi\n",
        "3. Penyamaan huruf besar dan kecil\n",
        "4. Memisahkan tanda baca ! \"seru\""
      ],
      "metadata": {
        "id": "HgXmojDP9a2j"
      }
    },
    {
      "cell_type": "code",
      "source": [
        "punctuations = re.sub(r'[!<_>#:)\\.]', '', string.punctuation)\n",
        "\n",
        "def punct2wspace(text):\n",
        "  return re.sub(r'[{}]+'.format(punctuations), ' ', text)\n",
        "\n",
        "def normalize_wspace(text):\n",
        "  return re.sub(r'\\s+', ' ', text)\n",
        "\n",
        "def casefolding(text):\n",
        "  return text.lower()\n",
        "\n",
        "def separate_punct(text):\n",
        "  return re.sub(r'(\\w+)(!)', r'\\1 \\2', text)"
      ],
      "metadata": {
        "id": "b_0W3__C8zxy"
      },
      "execution_count": null,
      "outputs": []
    },
    {
      "cell_type": "markdown",
      "source": [
        "## Stemming"
      ],
      "metadata": {
        "id": "x_xbq3K8B_f1"
      }
    },
    {
      "cell_type": "markdown",
      "source": [
        "Stemming adalah penghilangan imbuhan pada kata. Pada bahasa indonesia, stemming dapat dilakukan dengan bantuan library Sastrawi."
      ],
      "metadata": {
        "id": "wxnJQptBCCNp"
      }
    },
    {
      "cell_type": "code",
      "source": [
        "# Create stemmer\n",
        "factory = StemmerFactory()\n",
        "stemmer = factory.create_stemmer()\n",
        "\n",
        "# Stemming Process\n",
        "sentence = 'Perekonomian Indonesia sedang dalam pertumbuhan yang membanggakan'\n",
        "output = stemmer.stem(sentence)\n",
        "\n",
        "print(output)"
      ],
      "metadata": {
        "colab": {
          "base_uri": "https://localhost:8080/"
        },
        "id": "qCIia4F8-54y",
        "outputId": "55b74fc0-b026-4595-cc07-39f5cd8bc9fb"
      },
      "execution_count": null,
      "outputs": [
        {
          "output_type": "stream",
          "name": "stdout",
          "text": [
            "ekonomi indonesia sedang dalam tumbuh yang bangga\n"
          ]
        }
      ]
    },
    {
      "cell_type": "markdown",
      "source": [
        "## Preprocess"
      ],
      "metadata": {
        "id": "L88iJNltSSiA"
      }
    },
    {
      "cell_type": "code",
      "source": [
        "def preprocess_text(text):\n",
        "  text = punct2wspace(text)\n",
        "  text = normalize_wspace(text)\n",
        "  text = casefolding(text)\n",
        "  text = separate_punct(text)\n",
        "  # text = stemmer.stem(text)\n",
        "  return text\n",
        "\n",
        "preprocess_text('ergonrizky@gmail.com!')"
      ],
      "metadata": {
        "colab": {
          "base_uri": "https://localhost:8080/",
          "height": 35
        },
        "id": "LSD1GDLjCqmS",
        "outputId": "57f903aa-bfc2-4931-b44c-3a2f48743140"
      },
      "execution_count": null,
      "outputs": [
        {
          "output_type": "execute_result",
          "data": {
            "text/plain": [
              "'ergonrizky gmail com !'"
            ],
            "application/vnd.google.colaboratory.intrinsic+json": {
              "type": "string"
            }
          },
          "metadata": {},
          "execution_count": 21
        }
      ]
    },
    {
      "cell_type": "code",
      "source": [
        "# Ilustrasi teks yang sudah dibersihkan\n",
        "df['cleaned_text'] = df['Text Tweet'].apply(preprocess_text)\n",
        "df.head()"
      ],
      "metadata": {
        "colab": {
          "base_uri": "https://localhost:8080/",
          "height": 285
        },
        "id": "4mmQYrx0S9bn",
        "outputId": "bb9adc8c-e155-4070-8d26-3cb15b602016"
      },
      "execution_count": null,
      "outputs": [
        {
          "output_type": "execute_result",
          "data": {
            "text/plain": [
              "   Id Sentiment  \\\n",
              "0   1  positive   \n",
              "1   2  positive   \n",
              "2   3  negative   \n",
              "3   4  negative   \n",
              "4   5  negative   \n",
              "\n",
              "                                                                                                                  Text Tweet  \\\n",
              "0                                       <USER_MENTION> #BOIKOT_<PROVIDER_NAME> Gunakan Produk Bangsa Sendiri <PROVIDER_NAME>   \n",
              "1                                                                      Saktinya balik lagi, alhamdulillah :v <PROVIDER_NAME>   \n",
              "2  Selamat pagi <PROVIDER_NAME>  bisa bantu kenapa di dalam kamar sinyal 4G hilang yang 1 lagi panggilan darurat saja  <URL>   \n",
              "3                                                 Dear <PROVIDER_NAME> akhir2 ini jaringan data lemot banget padahal H+ !!!!   \n",
              "4                                                                                    Selamat malam PENDUSTA <PROVIDER_NAME>    \n",
              "\n",
              "                                                                                                              cleaned_text  \n",
              "0                                     <user_mention> #boikot_<provider_name> gunakan produk bangsa sendiri <provider_name>  \n",
              "1                                                                     saktinya balik lagi alhamdulillah :v <provider_name>  \n",
              "2  selamat pagi <provider_name> bisa bantu kenapa di dalam kamar sinyal 4g hilang yang 1 lagi panggilan darurat saja <url>  \n",
              "3                                                dear <provider_name> akhir2 ini jaringan data lemot banget padahal h !!!!  \n",
              "4                                                                                  selamat malam pendusta <provider_name>   "
            ],
            "text/html": [
              "\n",
              "  <div id=\"df-a85b4527-5713-48fe-9349-139a28b23886\">\n",
              "    <div class=\"colab-df-container\">\n",
              "      <div>\n",
              "<style scoped>\n",
              "    .dataframe tbody tr th:only-of-type {\n",
              "        vertical-align: middle;\n",
              "    }\n",
              "\n",
              "    .dataframe tbody tr th {\n",
              "        vertical-align: top;\n",
              "    }\n",
              "\n",
              "    .dataframe thead th {\n",
              "        text-align: right;\n",
              "    }\n",
              "</style>\n",
              "<table border=\"1\" class=\"dataframe\">\n",
              "  <thead>\n",
              "    <tr style=\"text-align: right;\">\n",
              "      <th></th>\n",
              "      <th>Id</th>\n",
              "      <th>Sentiment</th>\n",
              "      <th>Text Tweet</th>\n",
              "      <th>cleaned_text</th>\n",
              "    </tr>\n",
              "  </thead>\n",
              "  <tbody>\n",
              "    <tr>\n",
              "      <th>0</th>\n",
              "      <td>1</td>\n",
              "      <td>positive</td>\n",
              "      <td>&lt;USER_MENTION&gt; #BOIKOT_&lt;PROVIDER_NAME&gt; Gunakan Produk Bangsa Sendiri &lt;PROVIDER_NAME&gt;</td>\n",
              "      <td>&lt;user_mention&gt; #boikot_&lt;provider_name&gt; gunakan produk bangsa sendiri &lt;provider_name&gt;</td>\n",
              "    </tr>\n",
              "    <tr>\n",
              "      <th>1</th>\n",
              "      <td>2</td>\n",
              "      <td>positive</td>\n",
              "      <td>Saktinya balik lagi, alhamdulillah :v &lt;PROVIDER_NAME&gt;</td>\n",
              "      <td>saktinya balik lagi alhamdulillah :v &lt;provider_name&gt;</td>\n",
              "    </tr>\n",
              "    <tr>\n",
              "      <th>2</th>\n",
              "      <td>3</td>\n",
              "      <td>negative</td>\n",
              "      <td>Selamat pagi &lt;PROVIDER_NAME&gt;  bisa bantu kenapa di dalam kamar sinyal 4G hilang yang 1 lagi panggilan darurat saja  &lt;URL&gt;</td>\n",
              "      <td>selamat pagi &lt;provider_name&gt; bisa bantu kenapa di dalam kamar sinyal 4g hilang yang 1 lagi panggilan darurat saja &lt;url&gt;</td>\n",
              "    </tr>\n",
              "    <tr>\n",
              "      <th>3</th>\n",
              "      <td>4</td>\n",
              "      <td>negative</td>\n",
              "      <td>Dear &lt;PROVIDER_NAME&gt; akhir2 ini jaringan data lemot banget padahal H+ !!!!</td>\n",
              "      <td>dear &lt;provider_name&gt; akhir2 ini jaringan data lemot banget padahal h !!!!</td>\n",
              "    </tr>\n",
              "    <tr>\n",
              "      <th>4</th>\n",
              "      <td>5</td>\n",
              "      <td>negative</td>\n",
              "      <td>Selamat malam PENDUSTA &lt;PROVIDER_NAME&gt;</td>\n",
              "      <td>selamat malam pendusta &lt;provider_name&gt;</td>\n",
              "    </tr>\n",
              "  </tbody>\n",
              "</table>\n",
              "</div>\n",
              "      <button class=\"colab-df-convert\" onclick=\"convertToInteractive('df-a85b4527-5713-48fe-9349-139a28b23886')\"\n",
              "              title=\"Convert this dataframe to an interactive table.\"\n",
              "              style=\"display:none;\">\n",
              "        \n",
              "  <svg xmlns=\"http://www.w3.org/2000/svg\" height=\"24px\"viewBox=\"0 0 24 24\"\n",
              "       width=\"24px\">\n",
              "    <path d=\"M0 0h24v24H0V0z\" fill=\"none\"/>\n",
              "    <path d=\"M18.56 5.44l.94 2.06.94-2.06 2.06-.94-2.06-.94-.94-2.06-.94 2.06-2.06.94zm-11 1L8.5 8.5l.94-2.06 2.06-.94-2.06-.94L8.5 2.5l-.94 2.06-2.06.94zm10 10l.94 2.06.94-2.06 2.06-.94-2.06-.94-.94-2.06-.94 2.06-2.06.94z\"/><path d=\"M17.41 7.96l-1.37-1.37c-.4-.4-.92-.59-1.43-.59-.52 0-1.04.2-1.43.59L10.3 9.45l-7.72 7.72c-.78.78-.78 2.05 0 2.83L4 21.41c.39.39.9.59 1.41.59.51 0 1.02-.2 1.41-.59l7.78-7.78 2.81-2.81c.8-.78.8-2.07 0-2.86zM5.41 20L4 18.59l7.72-7.72 1.47 1.35L5.41 20z\"/>\n",
              "  </svg>\n",
              "      </button>\n",
              "      \n",
              "  <style>\n",
              "    .colab-df-container {\n",
              "      display:flex;\n",
              "      flex-wrap:wrap;\n",
              "      gap: 12px;\n",
              "    }\n",
              "\n",
              "    .colab-df-convert {\n",
              "      background-color: #E8F0FE;\n",
              "      border: none;\n",
              "      border-radius: 50%;\n",
              "      cursor: pointer;\n",
              "      display: none;\n",
              "      fill: #1967D2;\n",
              "      height: 32px;\n",
              "      padding: 0 0 0 0;\n",
              "      width: 32px;\n",
              "    }\n",
              "\n",
              "    .colab-df-convert:hover {\n",
              "      background-color: #E2EBFA;\n",
              "      box-shadow: 0px 1px 2px rgba(60, 64, 67, 0.3), 0px 1px 3px 1px rgba(60, 64, 67, 0.15);\n",
              "      fill: #174EA6;\n",
              "    }\n",
              "\n",
              "    [theme=dark] .colab-df-convert {\n",
              "      background-color: #3B4455;\n",
              "      fill: #D2E3FC;\n",
              "    }\n",
              "\n",
              "    [theme=dark] .colab-df-convert:hover {\n",
              "      background-color: #434B5C;\n",
              "      box-shadow: 0px 1px 3px 1px rgba(0, 0, 0, 0.15);\n",
              "      filter: drop-shadow(0px 1px 2px rgba(0, 0, 0, 0.3));\n",
              "      fill: #FFFFFF;\n",
              "    }\n",
              "  </style>\n",
              "\n",
              "      <script>\n",
              "        const buttonEl =\n",
              "          document.querySelector('#df-a85b4527-5713-48fe-9349-139a28b23886 button.colab-df-convert');\n",
              "        buttonEl.style.display =\n",
              "          google.colab.kernel.accessAllowed ? 'block' : 'none';\n",
              "\n",
              "        async function convertToInteractive(key) {\n",
              "          const element = document.querySelector('#df-a85b4527-5713-48fe-9349-139a28b23886');\n",
              "          const dataTable =\n",
              "            await google.colab.kernel.invokeFunction('convertToInteractive',\n",
              "                                                     [key], {});\n",
              "          if (!dataTable) return;\n",
              "\n",
              "          const docLinkHtml = 'Like what you see? Visit the ' +\n",
              "            '<a target=\"_blank\" href=https://colab.research.google.com/notebooks/data_table.ipynb>data table notebook</a>'\n",
              "            + ' to learn more about interactive tables.';\n",
              "          element.innerHTML = '';\n",
              "          dataTable['output_type'] = 'display_data';\n",
              "          await google.colab.output.renderOutput(dataTable, element);\n",
              "          const docLink = document.createElement('div');\n",
              "          docLink.innerHTML = docLinkHtml;\n",
              "          element.appendChild(docLink);\n",
              "        }\n",
              "      </script>\n",
              "    </div>\n",
              "  </div>\n",
              "  "
            ]
          },
          "metadata": {},
          "execution_count": 22
        }
      ]
    },
    {
      "cell_type": "markdown",
      "source": [
        "# Feature Extractions"
      ],
      "metadata": {
        "id": "xjUKCpm0TdO4"
      }
    },
    {
      "cell_type": "markdown",
      "source": [
        "Setelah teks dirapikan, saatnya untuk mengubah representasi teks ke bentuk yang dapat diproses oleh model machine learning, yaitu ke bentuk vektor."
      ],
      "metadata": {
        "id": "1DS42QZ5ThYS"
      }
    },
    {
      "cell_type": "code",
      "source": [
        "# Kolom teks\n",
        "cleaned_text = df['cleaned_text']"
      ],
      "metadata": {
        "id": "UQpTof0iTOjy"
      },
      "execution_count": null,
      "outputs": []
    },
    {
      "cell_type": "markdown",
      "source": [
        "## CountVector"
      ],
      "metadata": {
        "id": "qVxDUrstT0Hv"
      }
    },
    {
      "cell_type": "markdown",
      "source": [
        "Count Vector memberikan vektor yang berisikan jumlah pada tiap kalimat. Kelemahan dari count vector adalah urutan kata tidak diperhatikan, sehingga kemungkinan akan menimbulkan bias."
      ],
      "metadata": {
        "id": "Ig-qm_bxT2ky"
      }
    },
    {
      "cell_type": "code",
      "source": [
        "count_vect = CountVectorizer(max_features=10_000)\n",
        "count_repr = count_vect.fit_transform(cleaned_text)\n",
        "count_repr"
      ],
      "metadata": {
        "colab": {
          "base_uri": "https://localhost:8080/"
        },
        "id": "N6BTItCeTycH",
        "outputId": "53ae0db0-9017-46e7-ea57-706fc1c26093"
      },
      "execution_count": null,
      "outputs": [
        {
          "output_type": "execute_result",
          "data": {
            "text/plain": [
              "<300x1020 sparse matrix of type '<class 'numpy.int64'>'\n",
              "\twith 3145 stored elements in Compressed Sparse Row format>"
            ]
          },
          "metadata": {},
          "execution_count": 25
        }
      ]
    },
    {
      "cell_type": "markdown",
      "source": [
        "## Tf-Idf"
      ],
      "metadata": {
        "id": "yPgIe-I7UzwR"
      }
    },
    {
      "cell_type": "markdown",
      "source": [
        "Hampir sama dengan count vector, namun cara perhitungannya dilakukan dengan mempertimbangkan jumlah kata dalam kalimat dan jumlah kata dalam dokumen. Sehingga kata bisa memiliki bobot yang berbeda-beda tergantung dengan jumlah kemunculannya. Semakin sering dia muncul pada kalimat-kalimat dokumen, semakin berkurang bobot nilainya, menandakan bahwa kata tersebut tidak begitu mempengaruhi makna dari kalimat. "
      ],
      "metadata": {
        "id": "40dWKVcuU20Y"
      }
    },
    {
      "cell_type": "code",
      "source": [
        "tfidf_vect = TfidfVectorizer(max_features=10_000)\n",
        "tfidf_repr = tfidf_vect.fit_transform(cleaned_text)\n",
        "tfidf_repr"
      ],
      "metadata": {
        "colab": {
          "base_uri": "https://localhost:8080/"
        },
        "id": "nelQSm0bUgjk",
        "outputId": "32b262f2-7cf6-4ad7-9636-7c118ab990fa"
      },
      "execution_count": null,
      "outputs": [
        {
          "output_type": "execute_result",
          "data": {
            "text/plain": [
              "<300x1020 sparse matrix of type '<class 'numpy.float64'>'\n",
              "\twith 3145 stored elements in Compressed Sparse Row format>"
            ]
          },
          "metadata": {},
          "execution_count": 27
        }
      ]
    },
    {
      "cell_type": "markdown",
      "source": [
        "# Model Building"
      ],
      "metadata": {
        "id": "ngYdyaQVVt8m"
      }
    },
    {
      "cell_type": "code",
      "source": [
        "logres = LogisticRegression()\n",
        "multi_nb = MultinomialNB()"
      ],
      "metadata": {
        "id": "167cDQFuVflU"
      },
      "execution_count": null,
      "outputs": []
    },
    {
      "cell_type": "markdown",
      "source": [
        "# Train dan Test Model"
      ],
      "metadata": {
        "id": "pCkd2UjSV3v-"
      }
    },
    {
      "cell_type": "code",
      "source": [
        "target = df['Sentiment'].map({'negative':0, 'positive':1})\n",
        "features = df['cleaned_text']"
      ],
      "metadata": {
        "id": "S3KBD8gQV2Y2"
      },
      "execution_count": null,
      "outputs": []
    },
    {
      "cell_type": "markdown",
      "source": [
        "## Split Data"
      ],
      "metadata": {
        "id": "_5UVkylsWI0b"
      }
    },
    {
      "cell_type": "code",
      "source": [
        "train_X, test_x, train_y, test_y = train_test_split(features, target, test_size=0.2, random_state=42)"
      ],
      "metadata": {
        "id": "vT2xKqfUWHhf"
      },
      "execution_count": null,
      "outputs": []
    },
    {
      "cell_type": "markdown",
      "source": [
        "## Pipeline"
      ],
      "metadata": {
        "id": "6bgDJLdHWgjL"
      }
    },
    {
      "cell_type": "code",
      "source": [
        "# Pipeline Logistic\n",
        "logres_pipe = Pipeline(\n",
        "    [\n",
        "     ('feature_extractions', tfidf_vect),\n",
        "     ('classifier', logres)\n",
        "    ]\n",
        ")\n",
        "\n",
        "# Pipeline NB\n",
        "multinb_pipe = Pipeline(\n",
        "    [\n",
        "     ('feature+extractions', count_vect),\n",
        "     ('classifier', multi_nb)\n",
        "    ]\n",
        ")"
      ],
      "metadata": {
        "id": "hw94G4SyWd6y"
      },
      "execution_count": null,
      "outputs": []
    },
    {
      "cell_type": "markdown",
      "source": [
        "## Latih Model"
      ],
      "metadata": {
        "id": "cQzAKEL3X0ls"
      }
    },
    {
      "cell_type": "code",
      "source": [
        "multinb_pipe.fit(train_X, train_y)\n",
        "multinb_pipe.score(test_x, test_y)"
      ],
      "metadata": {
        "colab": {
          "base_uri": "https://localhost:8080/"
        },
        "id": "zbb4w9XJW_Ec",
        "outputId": "621fef2b-b180-49dd-a689-d0ff1ddc32a2"
      },
      "execution_count": null,
      "outputs": [
        {
          "output_type": "execute_result",
          "data": {
            "text/plain": [
              "0.8666666666666667"
            ]
          },
          "metadata": {},
          "execution_count": 32
        }
      ]
    },
    {
      "cell_type": "code",
      "source": [
        "logres_pipe.fit(train_X, train_y)\n",
        "logres_pipe.score(test_x, test_y)"
      ],
      "metadata": {
        "colab": {
          "base_uri": "https://localhost:8080/"
        },
        "id": "H8jpKg6ZYGC_",
        "outputId": "9ec3832b-809f-4420-c2ea-6e448946a8ef"
      },
      "execution_count": null,
      "outputs": [
        {
          "output_type": "execute_result",
          "data": {
            "text/plain": [
              "0.85"
            ]
          },
          "metadata": {},
          "execution_count": 33
        }
      ]
    },
    {
      "cell_type": "markdown",
      "source": [
        "# Evaluasi Model"
      ],
      "metadata": {
        "id": "1hJwARwRYW-C"
      }
    },
    {
      "cell_type": "code",
      "source": [
        "# Multinomial Naive Bayes\n",
        "multinb_report = classification_report(y_true=test_y, y_pred=multinb_pipe.predict(test_x))\n",
        "print(multinb_report)"
      ],
      "metadata": {
        "colab": {
          "base_uri": "https://localhost:8080/"
        },
        "id": "pqDYm2CcYVlo",
        "outputId": "84e864de-2b5e-4140-910e-7dc26bae1e4d"
      },
      "execution_count": null,
      "outputs": [
        {
          "output_type": "stream",
          "name": "stdout",
          "text": [
            "              precision    recall  f1-score   support\n",
            "\n",
            "           0       0.82      0.97      0.89        33\n",
            "           1       0.95      0.74      0.83        27\n",
            "\n",
            "    accuracy                           0.87        60\n",
            "   macro avg       0.89      0.86      0.86        60\n",
            "weighted avg       0.88      0.87      0.86        60\n",
            "\n"
          ]
        }
      ]
    },
    {
      "cell_type": "code",
      "source": [
        "# Logistic Regression\n",
        "logres_report = classification_report(y_true=test_y, y_pred=logres_pipe.predict(test_x))\n",
        "print(logres_report)"
      ],
      "metadata": {
        "colab": {
          "base_uri": "https://localhost:8080/"
        },
        "id": "gwaF2hlrY1u8",
        "outputId": "33cd1deb-8528-467c-f669-e4b5aa0db3b5"
      },
      "execution_count": null,
      "outputs": [
        {
          "output_type": "stream",
          "name": "stdout",
          "text": [
            "              precision    recall  f1-score   support\n",
            "\n",
            "           0       0.80      0.97      0.88        33\n",
            "           1       0.95      0.70      0.81        27\n",
            "\n",
            "    accuracy                           0.85        60\n",
            "   macro avg       0.88      0.84      0.84        60\n",
            "weighted avg       0.87      0.85      0.85        60\n",
            "\n"
          ]
        }
      ]
    },
    {
      "cell_type": "markdown",
      "source": [
        "# Model Deployment"
      ],
      "metadata": {
        "id": "ZYM0Sz3ZZggu"
      }
    },
    {
      "cell_type": "code",
      "source": [
        "# Ubah nama provider ke bentuk standar\n",
        "def namespace_change(text):\n",
        "  providers = ['telkomsel','three','im3','smartfren','axis']\n",
        "  return re.sub(\n",
        "      pattern='({})'.format('|'.join(providers)),\n",
        "      repl='<PROVIDER_NAME>',\n",
        "      string=text,\n",
        "      flags=re.IGNORECASE)\n",
        "  \n",
        "# Ubah mention ke bentuk standar\n",
        "def mention_change(text):\n",
        "  return re.sub(\n",
        "      pattern='@\\S+',\n",
        "      repl='<USER_MENTION>',\n",
        "      string=text,\n",
        "      flags=re.IGNORECASE)\n",
        "  \n",
        "print(namespace_change('saya menggunakan TeLkOmSeL'))\n",
        "print(mention_change('@01saya ayo pakai ponsel'))"
      ],
      "metadata": {
        "colab": {
          "base_uri": "https://localhost:8080/"
        },
        "id": "QwmsNFjbZDN5",
        "outputId": "92a32250-6ea3-42cf-fb2a-5753de7d577a"
      },
      "execution_count": null,
      "outputs": [
        {
          "output_type": "stream",
          "name": "stdout",
          "text": [
            "saya menggunakan <PROVIDER_NAME>\n",
            "<USER_MENTION> ayo pakai ponsel\n"
          ]
        }
      ]
    },
    {
      "cell_type": "code",
      "source": [
        "# Kita perlu memberikan keterangan pada label 0 dan 1\n",
        "sentiment_map = {0: 'Negatif', 1: 'Positif'}\n",
        "\n",
        "# Buat fungsi utama yang akan dijalankan\n",
        "def predict_sentiment(review):\n",
        "\n",
        "  review_formatted = namespace_change(review)\n",
        "  review_formatted = mention_change(review_formatted)\n",
        "  review_cleaned = preprocess_text(review_formatted)\n",
        "\n",
        "  prediction = int( logres_pipe.predict([review_cleaned]) )\n",
        "  sentiment = sentiment_map.get(prediction)\n",
        "\n",
        "  return sentiment\n",
        "\n",
        "predict_sentiment(\"sinyal telkomsel baik\")"
      ],
      "metadata": {
        "colab": {
          "base_uri": "https://localhost:8080/",
          "height": 35
        },
        "id": "l1x6RQQwbXJ_",
        "outputId": "fd417baa-2ad7-4481-81ed-86ed19888537"
      },
      "execution_count": null,
      "outputs": [
        {
          "output_type": "execute_result",
          "data": {
            "text/plain": [
              "'Positif'"
            ],
            "application/vnd.google.colaboratory.intrinsic+json": {
              "type": "string"
            }
          },
          "metadata": {},
          "execution_count": 48
        }
      ]
    },
    {
      "cell_type": "code",
      "source": [
        "# Pembuatan Interface bisa dilakukan dengan memasukkan\n",
        "# tiga keyword arguments pada class gr.Interface\n",
        "# yaitu fn, inputs, dan outputs\n",
        "\n",
        "iface = gr.Interface(\n",
        "    fn=predict_sentiment,\n",
        "    inputs=gr.inputs.Textbox(lines=2, placeholder='Review anda tentang provider ini'),\n",
        "    outputs='text')\n",
        "iface.launch()"
      ],
      "metadata": {
        "colab": {
          "base_uri": "https://localhost:8080/",
          "height": 643
        },
        "id": "BgbTX2GJdIEq",
        "outputId": "ba53a4c4-45fc-494b-d756-f9343361da19"
      },
      "execution_count": null,
      "outputs": [
        {
          "output_type": "stream",
          "name": "stdout",
          "text": [
            "Colab notebook detected. To show errors in colab notebook, set `debug=True` in `launch()`\n",
            "Running on public URL: https://30582.gradio.app\n",
            "\n",
            "This share link expires in 72 hours. For free permanent hosting, check out Spaces (https://huggingface.co/spaces)\n"
          ]
        },
        {
          "output_type": "display_data",
          "data": {
            "text/plain": [
              "<IPython.lib.display.IFrame at 0x7f8da2b6fa90>"
            ],
            "text/html": [
              "\n",
              "        <iframe\n",
              "            width=\"900\"\n",
              "            height=\"500\"\n",
              "            src=\"https://30582.gradio.app\"\n",
              "            frameborder=\"0\"\n",
              "            allowfullscreen\n",
              "        ></iframe>\n",
              "        "
            ]
          },
          "metadata": {}
        },
        {
          "output_type": "execute_result",
          "data": {
            "text/plain": [
              "(<fastapi.applications.FastAPI at 0x7f8da72f8610>,\n",
              " 'http://127.0.0.1:7860/',\n",
              " 'https://30582.gradio.app')"
            ]
          },
          "metadata": {},
          "execution_count": 50
        }
      ]
    },
    {
      "cell_type": "code",
      "source": [
        ""
      ],
      "metadata": {
        "id": "MW6vDeaZemCY"
      },
      "execution_count": null,
      "outputs": []
    }
  ]
}